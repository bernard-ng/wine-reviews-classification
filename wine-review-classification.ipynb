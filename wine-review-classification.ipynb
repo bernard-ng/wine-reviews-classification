{
 "cells": [
  {
   "cell_type": "code",
   "execution_count": null,
   "id": "d3edca65-b139-4d02-bd22-206db57082f3",
   "metadata": {},
   "outputs": [],
   "source": [
    "!pip install tensorflow tensorflow_hub numpy pandas matplotlib"
   ]
  },
  {
   "cell_type": "code",
   "execution_count": 9,
   "id": "d4cca706-4c3e-41f3-942c-e49b07c401f2",
   "metadata": {},
   "outputs": [],
   "source": [
    "import numpy as np\n",
    "import pandas as pd\n",
    "import matplotlib.pyplot as plt\n",
    "\n",
    "import tensorflow as tf\n",
    "import tensorflow_hub as hub"
   ]
  },
  {
   "cell_type": "markdown",
   "id": "1b8484c9-451b-48a2-bf6a-05e688a0f208",
   "metadata": {},
   "source": [
    "# Nettoyage et Visualisation des données"
   ]
  },
  {
   "cell_type": "code",
   "execution_count": 39,
   "id": "7007f12b-2501-4dd3-b0ba-a47911a560fb",
   "metadata": {},
   "outputs": [
    {
     "name": "stdout",
     "output_type": "stream",
     "text": [
      "(129971, 6)\n"
     ]
    },
    {
     "data": {
      "text/html": [
       "<div>\n",
       "<style scoped>\n",
       "    .dataframe tbody tr th:only-of-type {\n",
       "        vertical-align: middle;\n",
       "    }\n",
       "\n",
       "    .dataframe tbody tr th {\n",
       "        vertical-align: top;\n",
       "    }\n",
       "\n",
       "    .dataframe thead th {\n",
       "        text-align: right;\n",
       "    }\n",
       "</style>\n",
       "<table border=\"1\" class=\"dataframe\">\n",
       "  <thead>\n",
       "    <tr style=\"text-align: right;\">\n",
       "      <th></th>\n",
       "      <th>country</th>\n",
       "      <th>description</th>\n",
       "      <th>points</th>\n",
       "      <th>price</th>\n",
       "      <th>variety</th>\n",
       "      <th>winery</th>\n",
       "    </tr>\n",
       "  </thead>\n",
       "  <tbody>\n",
       "    <tr>\n",
       "      <th>0</th>\n",
       "      <td>Italy</td>\n",
       "      <td>Aromas include tropical fruit, broom, brimston...</td>\n",
       "      <td>87</td>\n",
       "      <td>NaN</td>\n",
       "      <td>White Blend</td>\n",
       "      <td>Nicosia</td>\n",
       "    </tr>\n",
       "    <tr>\n",
       "      <th>1</th>\n",
       "      <td>Portugal</td>\n",
       "      <td>This is ripe and fruity, a wine that is smooth...</td>\n",
       "      <td>87</td>\n",
       "      <td>15.0</td>\n",
       "      <td>Portuguese Red</td>\n",
       "      <td>Quinta dos Avidagos</td>\n",
       "    </tr>\n",
       "    <tr>\n",
       "      <th>2</th>\n",
       "      <td>US</td>\n",
       "      <td>Tart and snappy, the flavors of lime flesh and...</td>\n",
       "      <td>87</td>\n",
       "      <td>14.0</td>\n",
       "      <td>Pinot Gris</td>\n",
       "      <td>Rainstorm</td>\n",
       "    </tr>\n",
       "    <tr>\n",
       "      <th>3</th>\n",
       "      <td>US</td>\n",
       "      <td>Pineapple rind, lemon pith and orange blossom ...</td>\n",
       "      <td>87</td>\n",
       "      <td>13.0</td>\n",
       "      <td>Riesling</td>\n",
       "      <td>St. Julian</td>\n",
       "    </tr>\n",
       "    <tr>\n",
       "      <th>4</th>\n",
       "      <td>US</td>\n",
       "      <td>Much like the regular bottling from 2012, this...</td>\n",
       "      <td>87</td>\n",
       "      <td>65.0</td>\n",
       "      <td>Pinot Noir</td>\n",
       "      <td>Sweet Cheeks</td>\n",
       "    </tr>\n",
       "  </tbody>\n",
       "</table>\n",
       "</div>"
      ],
      "text/plain": [
       "    country                                        description  points  price  \\\n",
       "0     Italy  Aromas include tropical fruit, broom, brimston...      87    NaN   \n",
       "1  Portugal  This is ripe and fruity, a wine that is smooth...      87   15.0   \n",
       "2        US  Tart and snappy, the flavors of lime flesh and...      87   14.0   \n",
       "3        US  Pineapple rind, lemon pith and orange blossom ...      87   13.0   \n",
       "4        US  Much like the regular bottling from 2012, this...      87   65.0   \n",
       "\n",
       "          variety               winery  \n",
       "0     White Blend              Nicosia  \n",
       "1  Portuguese Red  Quinta dos Avidagos  \n",
       "2      Pinot Gris            Rainstorm  \n",
       "3        Riesling           St. Julian  \n",
       "4      Pinot Noir         Sweet Cheeks  "
      ]
     },
     "execution_count": 39,
     "metadata": {},
     "output_type": "execute_result"
    }
   ],
   "source": [
    "df = pd.read_csv(\n",
    "    'dataset/wine-reviews.csv', \n",
    "    usecols=['country', 'description', 'points', 'price', 'variety', 'winery']\n",
    ")\n",
    "print(df.shape)\n",
    "df.head()"
   ]
  },
  {
   "cell_type": "code",
   "execution_count": 40,
   "id": "25b516d6-1be2-416f-a2e9-7370d7acd894",
   "metadata": {},
   "outputs": [
    {
     "data": {
      "image/png": "[encoded data removed]",
      "text/plain": [
       "<Figure size 432x288 with 1 Axes>"
      ]
     },
     "metadata": {
      "needs_background": "light"
     },
     "output_type": "display_data"
    }
   ],
   "source": [
    "df = df.dropna(subset=['description', 'points'])\n",
    "\n",
    "plt.hist(df.points, bins=20)\n",
    "plt.title(\"Points histogram\")\n",
    "plt.ylabel(\"N\")\n",
    "plt.xlabel(\"Points\")\n",
    "plt.show();"
   ]
  },
  {
   "cell_type": "markdown",
   "id": "e7884b8e-05b6-4916-8a7a-aa9ee855b86b",
   "metadata": {},
   "source": [
    "df['points'].describe()"
   ]
  },
  {
   "cell_type": "markdown",
   "id": "29edfd65-4d29-4bfa-af0c-ed6f2d10aac5",
   "metadata": {},
   "source": [
    "on peut remarquer que les données vont de 80 à 100, on peut donc avoir deux catégories de points ceux en dessus de 90 et au dessus de 90"
   ]
  },
  {
   "cell_type": "code",
   "execution_count": 43,
   "id": "ccb9f767-eb4c-4e48-b275-3ce13d142a40",
   "metadata": {},
   "outputs": [],
   "source": [
    "df['label'] = (df.points >= 90).astype(int)\n",
    "df = df[['description', 'points', 'label']]"
   ]
  },
  {
   "cell_type": "markdown",
   "id": "759896de-d10d-4a32-a589-2b6884e0701f",
   "metadata": {},
   "source": [
    "# Apprentissage Automatique"
   ]
  },
  {
   "cell_type": "code",
   "execution_count": 46,
   "id": "9f69a46b-4c48-4a80-afa2-65a515b41adc",
   "metadata": {},
   "outputs": [],
   "source": [
    "train, valid, test = np.split(df.sample(frac=1), [int(0.8 * len(df)), int(0.9 * len(df))])"
   ]
  },
  {
   "cell_type": "code",
   "execution_count": 49,
   "id": "a8407333-5e20-40f2-b752-2fe6dbfc2600",
   "metadata": {},
   "outputs": [],
   "source": [
    "def df_to_dataset(dataframe, shuffle=True, batch_size=1024):\n",
    "    df = dataframe.copy()\n",
    "    labels = df.pop('label')\n",
    "    df = df['description']\n",
    "    ds = tf.data.Dataset.from_tensor_slices((df, labels))\n",
    "    if shuffle:\n",
    "        ds = ds.shuffle(buffer_size=len(dataframe))\n",
    "    \n",
    "    ds = ds.batch(batch_size)\n",
    "    ds = ds.prefetch(tf.data.AUTOTUNE)\n",
    "    return ds\n"
   ]
  },
  {
   "cell_type": "code",
   "execution_count": null,
   "id": "da144403-b57d-4801-937a-8d90e2cc2e73",
   "metadata": {},
   "outputs": [],
   "source": [
    "train_data = df_to_dataset(train)\n",
    "valid_data = df_to_dataset(valid)\n",
    "test_data = df_to_dataset(test)"
   ]
  },
  {
   "cell_type": "markdown",
   "id": "4fd999cc-734e-4feb-bcc0-d48b15013f64",
   "metadata": {},
   "source": [
    "## Modèle"
   ]
  },
  {
   "cell_type": "code",
   "execution_count": 72,
   "id": "1509b648-4fd9-437c-bbb2-8b0f39a14049",
   "metadata": {},
   "outputs": [],
   "source": [
    "embedding = 'https://tfhub.dev/google/nnlm-en-dim50/2'\n",
    "hub_layer = hub.KerasLayer(embedding, dtype=tf.string, trainable=True)\n",
    "\n",
    "hub_layer(list(train_data)[0][0])\n",
    "\n",
    "model = tf.keras.Sequential([\n",
    "    hub_layer,\n",
    "    tf.keras.layers.Dense(16, activation='relu'),\n",
    "    tf.keras.layers.Dropout(0.4),\n",
    "    tf.keras.layers.Dense(16, activation='relu'),\n",
    "    tf.keras.layers.Dropout(0.4),\n",
    "    tf.keras.layers.Dense(1, activation='sigmoid')\n",
    "])\n",
    "\n",
    "\n",
    "model.compile(\n",
    "    optimizer=tf.keras.optimizers.Adam(learning_rate=0.001),\n",
    "    loss=tf.keras.losses.BinaryCrossentropy(),\n",
    "    metrics=['accuracy']\n",
    ")"
   ]
  },
  {
   "cell_type": "code",
   "execution_count": 73,
   "id": "4415b4a4-5333-472f-84fc-fcc1c4f388e2",
   "metadata": {},
   "outputs": [
    {
     "name": "stdout",
     "output_type": "stream",
     "text": [
      "102/102 [==============================] - 1s 7ms/step - loss: 0.7179 - accuracy: 0.3861\n"
     ]
    },
    {
     "data": {
      "text/plain": [
       "[0.7179276943206787, 0.3861083388328552]"
      ]
     },
     "execution_count": 73,
     "metadata": {},
     "output_type": "execute_result"
    }
   ],
   "source": [
    "model.evaluate(train_data)"
   ]
  },
  {
   "cell_type": "code",
   "execution_count": 74,
   "id": "b60f3af8-917d-4117-83de-edc43ee6f8d8",
   "metadata": {},
   "outputs": [
    {
     "name": "stdout",
     "output_type": "stream",
     "text": [
      "Epoch 1/5\n",
      "102/102 [==============================] - 36s 351ms/step - loss: 0.6224 - accuracy: 0.6381 - val_loss: 0.4808 - val_accuracy: 0.7886\n",
      "Epoch 2/5\n",
      "102/102 [==============================] - 36s 351ms/step - loss: 0.4629 - accuracy: 0.7798 - val_loss: 0.3980 - val_accuracy: 0.8153\n",
      "Epoch 3/5\n",
      "102/102 [==============================] - 36s 348ms/step - loss: 0.3966 - accuracy: 0.8287 - val_loss: 0.3772 - val_accuracy: 0.8265\n",
      "Epoch 4/5\n",
      "102/102 [==============================] - 36s 349ms/step - loss: 0.3628 - accuracy: 0.8475 - val_loss: 0.3725 - val_accuracy: 0.8311\n",
      "Epoch 5/5\n",
      "102/102 [==============================] - 36s 348ms/step - loss: 0.3367 - accuracy: 0.8603 - val_loss: 0.3733 - val_accuracy: 0.8303\n"
     ]
    }
   ],
   "source": [
    "history = model.fit(train_data, epochs=5, validation_data=valid_data)"
   ]
  },
  {
   "cell_type": "code",
   "execution_count": 75,
   "id": "7ba90fc4-1a0b-4fb7-bb3b-1642b4e29c35",
   "metadata": {},
   "outputs": [
    {
     "data": {
      "image/png": "[encoded data removed]",
      "text/plain": [
       "<Figure size 432x288 with 1 Axes>"
      ]
     },
     "metadata": {
      "needs_background": "light"
     },
     "output_type": "display_data"
    }
   ],
   "source": [
    "plt.plot(history.history['accuracy'], label='Training accuracy')\n",
    "plt.plot(history.history['val_accuracy'], label='Validation accuracy')\n",
    "plt.title(\"Accuracy of model\")\n",
    "plt.xlabel(\"Epoch\")\n",
    "plt.ylabel(\"Accuracy\")\n",
    "plt.legend()\n",
    "plt.show();"
   ]
  },
  {
   "cell_type": "code",
   "execution_count": 76,
   "id": "c840e08d-c6a5-46e1-8732-92cd662b0982",
   "metadata": {},
   "outputs": [
    {
     "data": {
      "image/png": "[encoded data removed]",
      "text/plain": [
       "<Figure size 432x288 with 1 Axes>"
      ]
     },
     "metadata": {
      "needs_background": "light"
     },
     "output_type": "display_data"
    }
   ],
   "source": [
    "plt.plot(history.history['loss'], label='Training loss')\n",
    "plt.plot(history.history['val_loss'], label='Validation loss')\n",
    "plt.title(\"Loss of model\")\n",
    "plt.xlabel(\"Epoch\")\n",
    "plt.ylabel(\"Loss\")\n",
    "plt.legend()\n",
    "plt.show();"
   ]
  }
 ],
 "metadata": {
  "kernelspec": {
   "display_name": "Python 3 (ipykernel)",
   "language": "python",
   "name": "python3"
  },
  "language_info": {
   "codemirror_mode": {
    "name": "ipython",
    "version": 3
   },
   "file_extension": ".py",
   "mimetype": "text/x-python",
   "name": "python",
   "nbconvert_exporter": "python",
   "pygments_lexer": "ipython3",
   "version": "3.10.4"
  }
 },
 "nbformat": 4,
 "nbformat_minor": 5
}
